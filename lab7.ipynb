{
 "cells": [
  {
   "cell_type": "markdown",
   "metadata": {},
   "source": [
    " Q1. Create two 3×3 matrices using the random function in Numpy and perform the following operations.\n",
    "è Product (prod)\n",
    "è Multiplication (multiply)\n",
    "è Dot Product (dot)"
   ]
  },
  {
   "cell_type": "code",
   "execution_count": 3,
   "metadata": {},
   "outputs": [
    {
     "name": "stdout",
     "output_type": "stream",
     "text": [
      "Product:\n",
      "4.268142200017252e-06\n",
      "Multiplication:\n",
      "[[0.16847531 0.16470224 0.0243219 ]\n",
      " [0.35317708 0.6051337  0.07658854]\n",
      " [0.04339994 0.00906708 0.45795608]]\n",
      "Dot Product:\n",
      "[[0.44703274 0.70388547 0.30755509]\n",
      " [0.67474134 1.09876627 0.47522443]\n",
      " [0.66346126 0.73966753 0.47223924]]\n"
     ]
    }
   ],
   "source": [
    "import numpy as np\n",
    "\n",
    "matrix1 = np.random.rand(3, 3)\n",
    "matrix2 = np.random.rand(3, 3)\n",
    "\n",
    "product = np.prod(matrix1)\n",
    "multiplication = np.multiply(matrix1, matrix2)\n",
    "dot_product = np.dot(matrix1, matrix2)\n",
    "\n",
    "print(\"Product:\")\n",
    "print(product)\n",
    "print(\"Multiplication:\")\n",
    "print(multiplication)\n",
    "print(\"Dot Product:\")\n",
    "print(dot_product)\n",
    "\n"
   ]
  },
  {
   "cell_type": "markdown",
   "metadata": {},
   "source": [
    "Q2. Perform the following set operations using the Numpy functions.\n",
    "è Union\n",
    "è Intersection\n",
    "è Set difference\n",
    "è XOR"
   ]
  },
  {
   "cell_type": "code",
   "execution_count": 5,
   "metadata": {},
   "outputs": [
    {
     "name": "stdout",
     "output_type": "stream",
     "text": [
      "[1 2 3 4 5 6 7 8]\n",
      "[4 5]\n",
      "[1 2 3]\n",
      "[1 2 3 6 7 8]\n"
     ]
    }
   ],
   "source": [
    "import numpy as np\n",
    "\n",
    "set1 = np.array([1, 2, 3, 4, 5])\n",
    "set2 = np.array([4, 5, 6, 7, 8])\n",
    "\n",
    "union_set =np.union1d(set1,set2)\n",
    "print(union_set)\n",
    "\n",
    "\n",
    "\n",
    "intersection_set = np.intersect1d(set1, set2)\n",
    "print(intersection_set)\n",
    "difference_set = np.setdiff1d(set1,set2)\n",
    "print(difference_set)\n",
    "\n",
    "xor_set = np.setxor1d(set1, set2)\n",
    "print(xor_set)\n"
   ]
  },
  {
   "cell_type": "markdown",
   "metadata": {},
   "source": [
    "Q3. Create a 1D array using Random function and perform the following operations.\n",
    "è Cumulative sum\n",
    "è Cumulative Product\n",
    "è Discrete difference (with n=3)\n",
    "è Find the unique elements from the array\n"
   ]
  },
  {
   "cell_type": "code",
   "execution_count": 1,
   "metadata": {},
   "outputs": [
    {
     "name": "stdout",
     "output_type": "stream",
     "text": [
      "Original Array:  [0.51065365 0.09904616 0.70845221 0.79900827 0.96550574 0.48543944\n",
      " 0.91069927 0.70528675 0.63643226 0.31264322]\n",
      "Cumulative Sum:  [0.51065365 0.60969982 1.31815203 2.11716031 3.08266605 3.56810549\n",
      " 4.47880476 5.1840915  5.82052376 6.13316698]\n",
      "Cumulative Product:  [0.51065365 0.05057829 0.0358323  0.0286303  0.02764272 0.01341887\n",
      " 0.01222055 0.00861899 0.00548541 0.00171497]\n",
      "Discrete Difference:  [-1.53986353  0.5947914  -0.72250518  1.55188991 -1.53599848  0.76723038\n",
      " -0.39149258]\n",
      "Unique Elements:  [0.09904616 0.31264322 0.48543944 0.51065365 0.63643226 0.70528675\n",
      " 0.70845221 0.79900827 0.91069927 0.96550574]\n"
     ]
    }
   ],
   "source": [
    "import numpy as np\n",
    "\n",
    "array_size = 10\n",
    "array = np.random.rand(array_size)\n",
    "\n",
    "cumulative_sum = np.cumsum(array)\n",
    "cumulative_product = np.cumprod(array)\n",
    "\n",
    "n = 3\n",
    "discrete_difference = np.diff(array, n)\n",
    "\n",
    "unique_elements = np.unique(array)\n",
    "\n",
    "print(\"Original Array: \", array)\n",
    "print(\"Cumulative Sum: \", cumulative_sum)\n",
    "print(\"Cumulative Product: \", cumulative_product)\n",
    "print(\"Discrete Difference: \", discrete_difference)\n",
    "print(\"Unique Elements: \", unique_elements)\n"
   ]
  },
  {
   "cell_type": "markdown",
   "metadata": {},
   "source": [
    "Q4. Create two 1D array and perform the Addition using zip(), add() and user defined function (frompyfunc())\n"
   ]
  },
  {
   "cell_type": "code",
   "execution_count": 7,
   "metadata": {},
   "outputs": [
    {
     "name": "stdout",
     "output_type": "stream",
     "text": [
      "Result using zip(): [7, 9, 11, 13, 15]\n",
      "Result using add(): [ 7  9 11 13 15]\n",
      "Result using user-defined function: [-5 -5 -5 -5 -5]\n"
     ]
    }
   ],
   "source": [
    "import numpy as np\n",
    "\n",
    "array1 = np.array([1, 2, 3, 4, 5])\n",
    "array2 = np.array([6, 7, 8, 9, 10])\n",
    "result_zip = [x + y for x, y in zip(array1, array2)]\n",
    "print(\"Result using zip():\", result_zip)\n",
    "result_add = np.add(array1, array2)\n",
    "print(\"Result using add():\", result_add)\n",
    "def sub(x, y):\n",
    "    return x - y\n",
    "\n",
    "sub_func = np.frompyfunc(sub, 2, 1)\n",
    "result_user_defined = sub_func(array1, array2)\n",
    "print(\"Result using user-defined function:\", result_user_defined)\n",
    "\n",
    "\n",
    "\n",
    "\n"
   ]
  },
  {
   "cell_type": "markdown",
   "metadata": {},
   "source": [
    "Q5. Find the LCM (Least Common Multiple) and GCD (Greatest Common Divisor) of an array of elements using reduce()."
   ]
  },
  {
   "cell_type": "code",
   "execution_count": 4,
   "metadata": {},
   "outputs": [
    {
     "name": "stdout",
     "output_type": "stream",
     "text": [
      "LCM: 60\n",
      "GCD: 1\n"
     ]
    }
   ],
   "source": [
    "from functools import reduce\n",
    "import numpy as np\n",
    "from math import gcd\n",
    "\n",
    "\n",
    "input_str = input(\"Enter values for the array comma-separated: \")\n",
    "a = np.array([int(x) for x in input_str.split(',')])\n",
    "\n",
    "def calculate_lcm(x, y):\n",
    "    return x * y // gcd(x, y)\n",
    "\n",
    "def calculate_gcd(x, y):\n",
    "    while y != 0:\n",
    "        x, y = y, x % y\n",
    "    return x\n",
    "\n",
    "lcm = reduce(calculate_lcm, a)\n",
    "gcd = reduce(calculate_gcd, a)\n",
    "\n",
    "print(\"LCM:\", lcm)\n",
    "print(\"GCD:\", gcd)"
   ]
  }
 ],
 "metadata": {
  "kernelspec": {
   "display_name": "Python 3",
   "language": "python",
   "name": "python3"
  },
  "language_info": {
   "codemirror_mode": {
    "name": "ipython",
    "version": 3
   },
   "file_extension": ".py",
   "mimetype": "text/x-python",
   "name": "python",
   "nbconvert_exporter": "python",
   "pygments_lexer": "ipython3",
   "version": "3.11.4"
  },
  "orig_nbformat": 4
 },
 "nbformat": 4,
 "nbformat_minor": 2
}
